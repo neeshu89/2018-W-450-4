{
 "cells": [
  {
   "cell_type": "code",
   "execution_count": 1,
   "metadata": {},
   "outputs": [
    {
     "name": "stdout",
     "output_type": "stream",
     "text": [
      "/home/jovyan/2018-W-450-4/02-learning-curves\n"
     ]
    }
   ],
   "source": [
    "cd .. "
   ]
  },
  {
   "cell_type": "code",
   "execution_count": 2,
   "metadata": {},
   "outputs": [],
   "source": [
    "run __init__.py"
   ]
  },
  {
   "cell_type": "code",
   "execution_count": 3,
   "metadata": {},
   "outputs": [],
   "source": [
    "run src/load_data.py"
   ]
  },
  {
   "cell_type": "code",
   "execution_count": 4,
   "metadata": {},
   "outputs": [],
   "source": [
    "!pip install tqdm --quiet"
   ]
  },
  {
   "cell_type": "code",
   "execution_count": 5,
   "metadata": {},
   "outputs": [],
   "source": [
    "from sklearn.metrics import accuracy_score, f1_score"
   ]
  },
  {
   "cell_type": "markdown",
   "metadata": {},
   "source": [
    "# Fundamental Question: Who makes more than $50k?"
   ]
  },
  {
   "cell_type": "code",
   "execution_count": 6,
   "metadata": {},
   "outputs": [],
   "source": [
    "from sklearn.linear_model import LogisticRegression\n",
    "from sklearn.model_selection import train_test_split\n",
    "from tqdm import tqdm \n",
    "from time import time"
   ]
  },
  {
   "cell_type": "code",
   "execution_count": 7,
   "metadata": {},
   "outputs": [],
   "source": [
    "def sample_training_set(X_train, y_train, n_pcnt):\n",
    "    n = X_train.shape[0]*n_pcnt//100\n",
    "    return n, X_train[:n], y_train[:n]\n",
    "\n",
    "def time_function_call(function_call):\n",
    "    start = time()\n",
    "    result = function_call\n",
    "    execution_time = time() - start\n",
    "    return result, execution_time\n",
    "\n",
    "def run_model(model, model_name, n_pcnt, data, labels):\n",
    "\n",
    "    X_train, X_test, y_train, y_test = train_test_split(data, labels, random_state=42, stratify=labels)\n",
    "\n",
    "    \n",
    "    n, X_samp, y_samp = sample_training_set(X_train, y_train, n_pcnt)\n",
    "    \n",
    "    _, fit_time = time_function_call(\n",
    "        model.fit(X_samp, y_samp))\n",
    "    \n",
    "    train_pred, train_pred_time = time_function_call(\n",
    "        model.predict(X_samp))\n",
    "    \n",
    "    test_pred, test_pred_time = time_function_call(\n",
    "        model.predict(X_test))    \n",
    "    \n",
    "    return {\n",
    "            'model_name' : model_name,\n",
    "            'n_pcnt' : n_pcnt,\n",
    "            'n' : n,\n",
    "            'f1_train_score' : f1_score(y_samp, train_pred),\n",
    "            'f1_test_score' : f1_score(y_test, test_pred),\n",
    "            'accuracy_train_score' : model.score(X_samp, y_samp),\n",
    "            'accuracy_test_score' : model.score(X_test, y_test),\n",
    "            'fit_time' : fit_time,\n",
    "            'train_pred_time' : train_pred_time,\n",
    "            'test_pred_time' : test_pred_time}"
   ]
  },
  {
   "cell_type": "code",
   "execution_count": 8,
   "metadata": {},
   "outputs": [
    {
     "data": {
      "text/plain": [
       "((25071, 103), (25071,))"
      ]
     },
     "execution_count": 8,
     "metadata": {},
     "output_type": "execute_result"
    }
   ],
   "source": [
    "adult_train_df = data['adult']['train']['engineered']\n",
    "adult_train_target = data['adult']['train']['labels']\n",
    "(adult_train_df.shape, adult_train_target.shape)"
   ]
  },
  {
   "cell_type": "code",
   "execution_count": 9,
   "metadata": {},
   "outputs": [
    {
     "name": "stderr",
     "output_type": "stream",
     "text": [
      "100%|██████████| 18/18 [00:01<00:00,  9.52it/s]\n"
     ]
    }
   ],
   "source": [
    "test_results = {}\n",
    "percentages = [1,2,3,4,5,7,10,15,20,25,30,40,50,60,70,80,90,100]\n",
    "for n in tqdm(percentages):\n",
    "    test_results[n] = run_model(LogisticRegression(), 'logit', n,\n",
    "                                adult_train_df,\n",
    "                                adult_train_target)\n"
   ]
  },
  {
   "cell_type": "code",
   "execution_count": 10,
   "metadata": {
    "scrolled": false
   },
   "outputs": [
    {
     "data": {
      "text/html": [
       "<div>\n",
       "<table border=\"1\" class=\"dataframe\">\n",
       "  <thead>\n",
       "    <tr style=\"text-align: right;\">\n",
       "      <th></th>\n",
       "      <th>accuracy_test_score</th>\n",
       "      <th>accuracy_train_score</th>\n",
       "      <th>f1_test_score</th>\n",
       "      <th>f1_train_score</th>\n",
       "      <th>fit_time</th>\n",
       "      <th>model_name</th>\n",
       "      <th>n</th>\n",
       "      <th>n_pcnt</th>\n",
       "      <th>test_pred_time</th>\n",
       "      <th>train_pred_time</th>\n",
       "    </tr>\n",
       "  </thead>\n",
       "  <tbody>\n",
       "    <tr>\n",
       "      <th>1</th>\n",
       "      <td>0.822272</td>\n",
       "      <td>0.893617</td>\n",
       "      <td>0.566874</td>\n",
       "      <td>0.722222</td>\n",
       "      <td>1.66893e-06</td>\n",
       "      <td>logit</td>\n",
       "      <td>188</td>\n",
       "      <td>1</td>\n",
       "      <td>1.43051e-06</td>\n",
       "      <td>1.66893e-06</td>\n",
       "    </tr>\n",
       "    <tr>\n",
       "      <th>2</th>\n",
       "      <td>0.833599</td>\n",
       "      <td>0.864362</td>\n",
       "      <td>0.607452</td>\n",
       "      <td>0.662252</td>\n",
       "      <td>1.66893e-06</td>\n",
       "      <td>logit</td>\n",
       "      <td>376</td>\n",
       "      <td>2</td>\n",
       "      <td>1.19209e-06</td>\n",
       "      <td>1.66893e-06</td>\n",
       "    </tr>\n",
       "    <tr>\n",
       "      <th>3</th>\n",
       "      <td>0.843012</td>\n",
       "      <td>0.859929</td>\n",
       "      <td>0.620663</td>\n",
       "      <td>0.655022</td>\n",
       "      <td>1.66893e-06</td>\n",
       "      <td>logit</td>\n",
       "      <td>564</td>\n",
       "      <td>3</td>\n",
       "      <td>1.43051e-06</td>\n",
       "      <td>1.19209e-06</td>\n",
       "    </tr>\n",
       "    <tr>\n",
       "      <th>4</th>\n",
       "      <td>0.845246</td>\n",
       "      <td>0.863032</td>\n",
       "      <td>0.623739</td>\n",
       "      <td>0.66881</td>\n",
       "      <td>1.66893e-06</td>\n",
       "      <td>logit</td>\n",
       "      <td>752</td>\n",
       "      <td>4</td>\n",
       "      <td>1.43051e-06</td>\n",
       "      <td>1.19209e-06</td>\n",
       "    </tr>\n",
       "    <tr>\n",
       "      <th>5</th>\n",
       "      <td>0.847798</td>\n",
       "      <td>0.852128</td>\n",
       "      <td>0.634763</td>\n",
       "      <td>0.653367</td>\n",
       "      <td>1.43051e-06</td>\n",
       "      <td>logit</td>\n",
       "      <td>940</td>\n",
       "      <td>5</td>\n",
       "      <td>1.19209e-06</td>\n",
       "      <td>1.66893e-06</td>\n",
       "    </tr>\n",
       "    <tr>\n",
       "      <th>7</th>\n",
       "      <td>0.846362</td>\n",
       "      <td>0.861702</td>\n",
       "      <td>0.63061</td>\n",
       "      <td>0.67029</td>\n",
       "      <td>1.43051e-06</td>\n",
       "      <td>logit</td>\n",
       "      <td>1316</td>\n",
       "      <td>7</td>\n",
       "      <td>1.19209e-06</td>\n",
       "      <td>1.19209e-06</td>\n",
       "    </tr>\n",
       "    <tr>\n",
       "      <th>10</th>\n",
       "      <td>0.849394</td>\n",
       "      <td>0.859574</td>\n",
       "      <td>0.641882</td>\n",
       "      <td>0.659794</td>\n",
       "      <td>1.43051e-06</td>\n",
       "      <td>logit</td>\n",
       "      <td>1880</td>\n",
       "      <td>10</td>\n",
       "      <td>1.19209e-06</td>\n",
       "      <td>1.43051e-06</td>\n",
       "    </tr>\n",
       "    <tr>\n",
       "      <th>15</th>\n",
       "      <td>0.848437</td>\n",
       "      <td>0.851418</td>\n",
       "      <td>0.642857</td>\n",
       "      <td>0.648195</td>\n",
       "      <td>1.66893e-06</td>\n",
       "      <td>logit</td>\n",
       "      <td>2820</td>\n",
       "      <td>15</td>\n",
       "      <td>1.43051e-06</td>\n",
       "      <td>1.19209e-06</td>\n",
       "    </tr>\n",
       "    <tr>\n",
       "      <th>20</th>\n",
       "      <td>0.848437</td>\n",
       "      <td>0.845745</td>\n",
       "      <td>0.646314</td>\n",
       "      <td>0.64891</td>\n",
       "      <td>1.66893e-06</td>\n",
       "      <td>logit</td>\n",
       "      <td>3760</td>\n",
       "      <td>20</td>\n",
       "      <td>1.19209e-06</td>\n",
       "      <td>1.19209e-06</td>\n",
       "    </tr>\n",
       "    <tr>\n",
       "      <th>25</th>\n",
       "      <td>0.850511</td>\n",
       "      <td>0.847234</td>\n",
       "      <td>0.652834</td>\n",
       "      <td>0.646305</td>\n",
       "      <td>1.90735e-06</td>\n",
       "      <td>logit</td>\n",
       "      <td>4700</td>\n",
       "      <td>25</td>\n",
       "      <td>1.19209e-06</td>\n",
       "      <td>1.66893e-06</td>\n",
       "    </tr>\n",
       "    <tr>\n",
       "      <th>30</th>\n",
       "      <td>0.850351</td>\n",
       "      <td>0.849113</td>\n",
       "      <td>0.65156</td>\n",
       "      <td>0.644082</td>\n",
       "      <td>2.14577e-06</td>\n",
       "      <td>logit</td>\n",
       "      <td>5640</td>\n",
       "      <td>30</td>\n",
       "      <td>1.43051e-06</td>\n",
       "      <td>1.19209e-06</td>\n",
       "    </tr>\n",
       "    <tr>\n",
       "      <th>40</th>\n",
       "      <td>0.849234</td>\n",
       "      <td>0.85135</td>\n",
       "      <td>0.647782</td>\n",
       "      <td>0.64909</td>\n",
       "      <td>1.43051e-06</td>\n",
       "      <td>logit</td>\n",
       "      <td>7521</td>\n",
       "      <td>40</td>\n",
       "      <td>1.43051e-06</td>\n",
       "      <td>1.43051e-06</td>\n",
       "    </tr>\n",
       "    <tr>\n",
       "      <th>50</th>\n",
       "      <td>0.848437</td>\n",
       "      <td>0.849378</td>\n",
       "      <td>0.64684</td>\n",
       "      <td>0.64881</td>\n",
       "      <td>1.90735e-06</td>\n",
       "      <td>logit</td>\n",
       "      <td>9401</td>\n",
       "      <td>50</td>\n",
       "      <td>1.19209e-06</td>\n",
       "      <td>1.19209e-06</td>\n",
       "    </tr>\n",
       "    <tr>\n",
       "      <th>60</th>\n",
       "      <td>0.85067</td>\n",
       "      <td>0.852141</td>\n",
       "      <td>0.65359</td>\n",
       "      <td>0.657072</td>\n",
       "      <td>1.43051e-06</td>\n",
       "      <td>logit</td>\n",
       "      <td>11281</td>\n",
       "      <td>60</td>\n",
       "      <td>1.19209e-06</td>\n",
       "      <td>1.90735e-06</td>\n",
       "    </tr>\n",
       "    <tr>\n",
       "      <th>70</th>\n",
       "      <td>0.851308</td>\n",
       "      <td>0.848275</td>\n",
       "      <td>0.654046</td>\n",
       "      <td>0.650446</td>\n",
       "      <td>1.90735e-06</td>\n",
       "      <td>logit</td>\n",
       "      <td>13162</td>\n",
       "      <td>70</td>\n",
       "      <td>1.43051e-06</td>\n",
       "      <td>1.66893e-06</td>\n",
       "    </tr>\n",
       "    <tr>\n",
       "      <th>80</th>\n",
       "      <td>0.849872</td>\n",
       "      <td>0.846762</td>\n",
       "      <td>0.649012</td>\n",
       "      <td>0.642912</td>\n",
       "      <td>1.43051e-06</td>\n",
       "      <td>logit</td>\n",
       "      <td>15042</td>\n",
       "      <td>80</td>\n",
       "      <td>1.43051e-06</td>\n",
       "      <td>1.43051e-06</td>\n",
       "    </tr>\n",
       "    <tr>\n",
       "      <th>90</th>\n",
       "      <td>0.850989</td>\n",
       "      <td>0.846413</td>\n",
       "      <td>0.65253</td>\n",
       "      <td>0.644508</td>\n",
       "      <td>1.43051e-06</td>\n",
       "      <td>logit</td>\n",
       "      <td>16922</td>\n",
       "      <td>90</td>\n",
       "      <td>1.43051e-06</td>\n",
       "      <td>1.90735e-06</td>\n",
       "    </tr>\n",
       "    <tr>\n",
       "      <th>100</th>\n",
       "      <td>0.850511</td>\n",
       "      <td>0.846993</td>\n",
       "      <td>0.652577</td>\n",
       "      <td>0.644771</td>\n",
       "      <td>1.43051e-06</td>\n",
       "      <td>logit</td>\n",
       "      <td>18803</td>\n",
       "      <td>100</td>\n",
       "      <td>1.66893e-06</td>\n",
       "      <td>1.66893e-06</td>\n",
       "    </tr>\n",
       "  </tbody>\n",
       "</table>\n",
       "</div>"
      ],
      "text/plain": [
       "    accuracy_test_score accuracy_train_score f1_test_score f1_train_score  \\\n",
       "1              0.822272             0.893617      0.566874       0.722222   \n",
       "2              0.833599             0.864362      0.607452       0.662252   \n",
       "3              0.843012             0.859929      0.620663       0.655022   \n",
       "4              0.845246             0.863032      0.623739        0.66881   \n",
       "5              0.847798             0.852128      0.634763       0.653367   \n",
       "7              0.846362             0.861702       0.63061        0.67029   \n",
       "10             0.849394             0.859574      0.641882       0.659794   \n",
       "15             0.848437             0.851418      0.642857       0.648195   \n",
       "20             0.848437             0.845745      0.646314        0.64891   \n",
       "25             0.850511             0.847234      0.652834       0.646305   \n",
       "30             0.850351             0.849113       0.65156       0.644082   \n",
       "40             0.849234              0.85135      0.647782        0.64909   \n",
       "50             0.848437             0.849378       0.64684        0.64881   \n",
       "60              0.85067             0.852141       0.65359       0.657072   \n",
       "70             0.851308             0.848275      0.654046       0.650446   \n",
       "80             0.849872             0.846762      0.649012       0.642912   \n",
       "90             0.850989             0.846413       0.65253       0.644508   \n",
       "100            0.850511             0.846993      0.652577       0.644771   \n",
       "\n",
       "        fit_time model_name      n n_pcnt test_pred_time train_pred_time  \n",
       "1    1.66893e-06      logit    188      1    1.43051e-06     1.66893e-06  \n",
       "2    1.66893e-06      logit    376      2    1.19209e-06     1.66893e-06  \n",
       "3    1.66893e-06      logit    564      3    1.43051e-06     1.19209e-06  \n",
       "4    1.66893e-06      logit    752      4    1.43051e-06     1.19209e-06  \n",
       "5    1.43051e-06      logit    940      5    1.19209e-06     1.66893e-06  \n",
       "7    1.43051e-06      logit   1316      7    1.19209e-06     1.19209e-06  \n",
       "10   1.43051e-06      logit   1880     10    1.19209e-06     1.43051e-06  \n",
       "15   1.66893e-06      logit   2820     15    1.43051e-06     1.19209e-06  \n",
       "20   1.66893e-06      logit   3760     20    1.19209e-06     1.19209e-06  \n",
       "25   1.90735e-06      logit   4700     25    1.19209e-06     1.66893e-06  \n",
       "30   2.14577e-06      logit   5640     30    1.43051e-06     1.19209e-06  \n",
       "40   1.43051e-06      logit   7521     40    1.43051e-06     1.43051e-06  \n",
       "50   1.90735e-06      logit   9401     50    1.19209e-06     1.19209e-06  \n",
       "60   1.43051e-06      logit  11281     60    1.19209e-06     1.90735e-06  \n",
       "70   1.90735e-06      logit  13162     70    1.43051e-06     1.66893e-06  \n",
       "80   1.43051e-06      logit  15042     80    1.43051e-06     1.43051e-06  \n",
       "90   1.43051e-06      logit  16922     90    1.43051e-06     1.90735e-06  \n",
       "100  1.43051e-06      logit  18803    100    1.66893e-06     1.66893e-06  "
      ]
     },
     "execution_count": 10,
     "metadata": {},
     "output_type": "execute_result"
    }
   ],
   "source": [
    "test_results = pd.DataFrame(test_results).T.sort_values('n')\n",
    "test_results"
   ]
  },
  {
   "cell_type": "code",
   "execution_count": 11,
   "metadata": {},
   "outputs": [
    {
     "data": {
      "text/plain": [
       "<matplotlib.legend.Legend at 0x7f582eef09b0>"
      ]
     },
     "execution_count": 11,
     "metadata": {},
     "output_type": "execute_result"
    },
    {
     "data": {
      "image/png": "[encoded data removed]",
      "text/plain": [
       "<matplotlib.figure.Figure at 0x7f582f72a780>"
      ]
     },
     "metadata": {},
     "output_type": "display_data"
    }
   ],
   "source": [
    "plt.plot(test_results.n, test_results.f1_test_score, label='test performance')\n",
    "plt.plot(test_results.n, test_results.f1_train_score, label='train performance')\n",
    "plt.legend()"
   ]
  },
  {
   "cell_type": "code",
   "execution_count": null,
   "metadata": {},
   "outputs": [],
   "source": []
  }
 ],
 "metadata": {
  "kernelspec": {
   "display_name": "Python 3",
   "language": "python",
   "name": "python3"
  },
  "language_info": {
   "codemirror_mode": {
    "name": "ipython",
    "version": 3
   },
   "file_extension": ".py",
   "mimetype": "text/x-python",
   "name": "python",
   "nbconvert_exporter": "python",
   "pygments_lexer": "ipython3",
   "version": "3.6.4"
  }
 },
 "nbformat": 4,
 "nbformat_minor": 2
}
