{
 "cells": [
  {
   "cell_type": "code",
   "execution_count": 1,
   "metadata": {},
   "outputs": [
    {
     "name": "stdout",
     "output_type": "stream",
     "text": [
      "/home/jovyan/2018-W-450-4/06-hyper-parameter-tuning\n"
     ]
    }
   ],
   "source": [
    "cd .. "
   ]
  },
  {
   "cell_type": "code",
   "execution_count": 2,
   "metadata": {},
   "outputs": [],
   "source": [
    "run __init__.py"
   ]
  },
  {
   "cell_type": "code",
   "execution_count": 3,
   "metadata": {},
   "outputs": [],
   "source": [
    "run src/load_data.py"
   ]
  },
  {
   "cell_type": "code",
   "execution_count": 4,
   "metadata": {},
   "outputs": [],
   "source": [
    "import warnings\n",
    "warnings.filterwarnings('ignore')"
   ]
  },
  {
   "cell_type": "code",
   "execution_count": 5,
   "metadata": {},
   "outputs": [],
   "source": [
    "from sklearn.metrics import accuracy_score, f1_score"
   ]
  },
  {
   "cell_type": "code",
   "execution_count": 6,
   "metadata": {},
   "outputs": [],
   "source": [
    "# !conda install tqdm --yes"
   ]
  },
  {
   "cell_type": "code",
   "execution_count": 7,
   "metadata": {},
   "outputs": [],
   "source": [
    "from sklearn.linear_model import LogisticRegression\n",
    "from sklearn.tree import DecisionTreeClassifier\n",
    "from sklearn.model_selection import train_test_split\n",
    "from tqdm import tqdm \n",
    "from time import time"
   ]
  },
  {
   "cell_type": "code",
   "execution_count": 8,
   "metadata": {},
   "outputs": [],
   "source": [
    "adult_train_df = data['adult']['train']['engineered']\n",
    "adult_train_target = data['adult']['train']['labels']"
   ]
  },
  {
   "cell_type": "code",
   "execution_count": 9,
   "metadata": {},
   "outputs": [
    {
     "data": {
      "text/html": [
       "<div>\n",
       "<table border=\"1\" class=\"dataframe\">\n",
       "  <thead>\n",
       "    <tr style=\"text-align: right;\">\n",
       "      <th></th>\n",
       "      <th>age</th>\n",
       "      <th>capital-gain</th>\n",
       "      <th>capital-loss</th>\n",
       "      <th>hours-per-week</th>\n",
       "      <th>workclass_ Federal-gov</th>\n",
       "      <th>workclass_ Local-gov</th>\n",
       "      <th>workclass_ Never-worked</th>\n",
       "      <th>workclass_ Private</th>\n",
       "      <th>workclass_ Self-emp-inc</th>\n",
       "      <th>workclass_ Self-emp-not-inc</th>\n",
       "      <th>...</th>\n",
       "      <th>native-country_ Portugal</th>\n",
       "      <th>native-country_ Puerto-Rico</th>\n",
       "      <th>native-country_ Scotland</th>\n",
       "      <th>native-country_ South</th>\n",
       "      <th>native-country_ Taiwan</th>\n",
       "      <th>native-country_ Thailand</th>\n",
       "      <th>native-country_ Trinadad&amp;Tobago</th>\n",
       "      <th>native-country_ United-States</th>\n",
       "      <th>native-country_ Vietnam</th>\n",
       "      <th>native-country_ Yugoslavia</th>\n",
       "    </tr>\n",
       "  </thead>\n",
       "  <tbody>\n",
       "    <tr>\n",
       "      <th>26490</th>\n",
       "      <td>39</td>\n",
       "      <td>0</td>\n",
       "      <td>0</td>\n",
       "      <td>50</td>\n",
       "      <td>0</td>\n",
       "      <td>0</td>\n",
       "      <td>0</td>\n",
       "      <td>1</td>\n",
       "      <td>0</td>\n",
       "      <td>0</td>\n",
       "      <td>...</td>\n",
       "      <td>0</td>\n",
       "      <td>0</td>\n",
       "      <td>0</td>\n",
       "      <td>0</td>\n",
       "      <td>0</td>\n",
       "      <td>0</td>\n",
       "      <td>0</td>\n",
       "      <td>1</td>\n",
       "      <td>0</td>\n",
       "      <td>0</td>\n",
       "    </tr>\n",
       "    <tr>\n",
       "      <th>6476</th>\n",
       "      <td>41</td>\n",
       "      <td>0</td>\n",
       "      <td>0</td>\n",
       "      <td>40</td>\n",
       "      <td>0</td>\n",
       "      <td>1</td>\n",
       "      <td>0</td>\n",
       "      <td>0</td>\n",
       "      <td>0</td>\n",
       "      <td>0</td>\n",
       "      <td>...</td>\n",
       "      <td>0</td>\n",
       "      <td>0</td>\n",
       "      <td>0</td>\n",
       "      <td>0</td>\n",
       "      <td>0</td>\n",
       "      <td>0</td>\n",
       "      <td>0</td>\n",
       "      <td>1</td>\n",
       "      <td>0</td>\n",
       "      <td>0</td>\n",
       "    </tr>\n",
       "    <tr>\n",
       "      <th>22737</th>\n",
       "      <td>30</td>\n",
       "      <td>0</td>\n",
       "      <td>0</td>\n",
       "      <td>45</td>\n",
       "      <td>0</td>\n",
       "      <td>0</td>\n",
       "      <td>0</td>\n",
       "      <td>1</td>\n",
       "      <td>0</td>\n",
       "      <td>0</td>\n",
       "      <td>...</td>\n",
       "      <td>0</td>\n",
       "      <td>0</td>\n",
       "      <td>0</td>\n",
       "      <td>0</td>\n",
       "      <td>0</td>\n",
       "      <td>0</td>\n",
       "      <td>0</td>\n",
       "      <td>1</td>\n",
       "      <td>0</td>\n",
       "      <td>0</td>\n",
       "    </tr>\n",
       "    <tr>\n",
       "      <th>20478</th>\n",
       "      <td>22</td>\n",
       "      <td>0</td>\n",
       "      <td>0</td>\n",
       "      <td>40</td>\n",
       "      <td>0</td>\n",
       "      <td>0</td>\n",
       "      <td>0</td>\n",
       "      <td>1</td>\n",
       "      <td>0</td>\n",
       "      <td>0</td>\n",
       "      <td>...</td>\n",
       "      <td>0</td>\n",
       "      <td>0</td>\n",
       "      <td>0</td>\n",
       "      <td>0</td>\n",
       "      <td>0</td>\n",
       "      <td>0</td>\n",
       "      <td>0</td>\n",
       "      <td>1</td>\n",
       "      <td>0</td>\n",
       "      <td>0</td>\n",
       "    </tr>\n",
       "    <tr>\n",
       "      <th>29883</th>\n",
       "      <td>29</td>\n",
       "      <td>0</td>\n",
       "      <td>0</td>\n",
       "      <td>46</td>\n",
       "      <td>0</td>\n",
       "      <td>0</td>\n",
       "      <td>0</td>\n",
       "      <td>1</td>\n",
       "      <td>0</td>\n",
       "      <td>0</td>\n",
       "      <td>...</td>\n",
       "      <td>0</td>\n",
       "      <td>0</td>\n",
       "      <td>0</td>\n",
       "      <td>0</td>\n",
       "      <td>0</td>\n",
       "      <td>0</td>\n",
       "      <td>0</td>\n",
       "      <td>1</td>\n",
       "      <td>0</td>\n",
       "      <td>0</td>\n",
       "    </tr>\n",
       "  </tbody>\n",
       "</table>\n",
       "<p>5 rows × 103 columns</p>\n",
       "</div>"
      ],
      "text/plain": [
       "       age  capital-gain  capital-loss  hours-per-week  \\\n",
       "26490   39             0             0              50   \n",
       "6476    41             0             0              40   \n",
       "22737   30             0             0              45   \n",
       "20478   22             0             0              40   \n",
       "29883   29             0             0              46   \n",
       "\n",
       "       workclass_ Federal-gov  workclass_ Local-gov  workclass_ Never-worked  \\\n",
       "26490                       0                     0                        0   \n",
       "6476                        0                     1                        0   \n",
       "22737                       0                     0                        0   \n",
       "20478                       0                     0                        0   \n",
       "29883                       0                     0                        0   \n",
       "\n",
       "       workclass_ Private  workclass_ Self-emp-inc  \\\n",
       "26490                   1                        0   \n",
       "6476                    0                        0   \n",
       "22737                   1                        0   \n",
       "20478                   1                        0   \n",
       "29883                   1                        0   \n",
       "\n",
       "       workclass_ Self-emp-not-inc             ...              \\\n",
       "26490                            0             ...               \n",
       "6476                             0             ...               \n",
       "22737                            0             ...               \n",
       "20478                            0             ...               \n",
       "29883                            0             ...               \n",
       "\n",
       "       native-country_ Portugal  native-country_ Puerto-Rico  \\\n",
       "26490                         0                            0   \n",
       "6476                          0                            0   \n",
       "22737                         0                            0   \n",
       "20478                         0                            0   \n",
       "29883                         0                            0   \n",
       "\n",
       "       native-country_ Scotland  native-country_ South  \\\n",
       "26490                         0                      0   \n",
       "6476                          0                      0   \n",
       "22737                         0                      0   \n",
       "20478                         0                      0   \n",
       "29883                         0                      0   \n",
       "\n",
       "       native-country_ Taiwan  native-country_ Thailand  \\\n",
       "26490                       0                         0   \n",
       "6476                        0                         0   \n",
       "22737                       0                         0   \n",
       "20478                       0                         0   \n",
       "29883                       0                         0   \n",
       "\n",
       "       native-country_ Trinadad&Tobago  native-country_ United-States  \\\n",
       "26490                                0                              1   \n",
       "6476                                 0                              1   \n",
       "22737                                0                              1   \n",
       "20478                                0                              1   \n",
       "29883                                0                              1   \n",
       "\n",
       "       native-country_ Vietnam  native-country_ Yugoslavia  \n",
       "26490                        0                           0  \n",
       "6476                         0                           0  \n",
       "22737                        0                           0  \n",
       "20478                        0                           0  \n",
       "29883                        0                           0  \n",
       "\n",
       "[5 rows x 103 columns]"
      ]
     },
     "execution_count": 9,
     "metadata": {},
     "output_type": "execute_result"
    }
   ],
   "source": [
    "adult_train_df.head()"
   ]
  },
  {
   "cell_type": "code",
   "execution_count": null,
   "metadata": {},
   "outputs": [],
   "source": []
  },
  {
   "cell_type": "code",
   "execution_count": 10,
   "metadata": {},
   "outputs": [],
   "source": [
    "from time import time"
   ]
  },
  {
   "cell_type": "code",
   "execution_count": 11,
   "metadata": {},
   "outputs": [],
   "source": [
    "def time_function_call(function):\n",
    "    def wrapper(*args, **kwargs):\n",
    "        start = time()\n",
    "        result = function(*args, **kwargs)\n",
    "        execution_time = time() - start\n",
    "        return result, execution_time\n",
    "    return wrapper\n",
    "\n",
    "@time_function_call\n",
    "def model_fit(model, X, y):\n",
    "    return model.fit(X, y)\n",
    "\n",
    "@time_function_call\n",
    "def model_predict(model, X):\n",
    "    return model.predict(X)\n",
    "\n",
    "def run_model(model, model_name, data, labels):\n",
    "\n",
    "    X_train, X_test, y_train, y_test = train_test_split(data, labels, stratify=labels)\n",
    "    \n",
    "    _, fit_time = model_fit(model, X_train, y_train)\n",
    "    \n",
    "    train_pred, train_pred_time = model_predict(model, X_train)\n",
    "    \n",
    "    test_pred, test_pred_time = model_predict(model, X_test)   \n",
    "    \n",
    "    return {\n",
    "            'model' : model,\n",
    "            'model_name' : model_name,\n",
    "            'f1_train_score' : f1_score(y_train, train_pred),\n",
    "            'f1_test_score' : f1_score(y_test, test_pred),\n",
    "            'accuracy_train_score' : model.score(X_train, y_train),\n",
    "            'accuracy_test_score' : model.score(X_test, y_test),\n",
    "            'fit_time' : fit_time,\n",
    "            'train_pred_time' : train_pred_time,\n",
    "            'test_pred_time' : test_pred_time}"
   ]
  },
  {
   "cell_type": "markdown",
   "metadata": {},
   "source": [
    "## F$_1$ Score by Penalty Type and C Value"
   ]
  },
  {
   "cell_type": "code",
   "execution_count": 29,
   "metadata": {
    "scrolled": false
   },
   "outputs": [
    {
     "name": "stderr",
     "output_type": "stream",
     "text": [
      "100%|██████████| 9/9 [00:00<00:00, 122.52it/s]\n",
      "100%|██████████| 9/9 [00:00<00:00, 51.51it/s]\n",
      "100%|██████████| 9/9 [00:00<00:00, 28.94it/s]\n",
      "100%|██████████| 9/9 [00:00<00:00, 19.06it/s]\n",
      "100%|██████████| 9/9 [00:00<00:00, 13.64it/s]\n",
      "100%|██████████| 9/9 [00:00<00:00, 10.30it/s]\n",
      "100%|██████████| 9/9 [00:01<00:00,  8.13it/s]\n",
      "100%|██████████| 9/9 [00:01<00:00,  6.48it/s]\n",
      "100%|██████████| 9/9 [00:01<00:00,  5.39it/s]\n"
     ]
    }
   ],
   "source": [
    "test_results = []\n",
    "depths = range(10,100,10)\n",
    "for features in range(10,100,10):\n",
    "    for depth in tqdm(depths):\n",
    "        if features < depth:\n",
    "            next\n",
    "        else:\n",
    "            model = DecisionTreeClassifier(max_features=features, max_depth=depth)\n",
    "            test_result = run_model(model, \n",
    "                                        'dt', \n",
    "                                        adult_train_df, \n",
    "                                        adult_train_target)\n",
    "            test_results.append(test_result)"
   ]
  },
  {
   "cell_type": "code",
   "execution_count": 30,
   "metadata": {},
   "outputs": [],
   "source": [
    "test_results_df = pd.DataFrame(test_results)"
   ]
  },
  {
   "cell_type": "code",
   "execution_count": 31,
   "metadata": {},
   "outputs": [],
   "source": [
    "test_results_df['max_depth'] = test_results_df.model.apply(lambda model: model.max_depth)\n",
    "test_results_df['max_features'] = test_results_df.model.apply(lambda model: model.max_features)"
   ]
  },
  {
   "cell_type": "code",
   "execution_count": 32,
   "metadata": {},
   "outputs": [
    {
     "data": {
      "text/html": [
       "<div>\n",
       "<table border=\"1\" class=\"dataframe\">\n",
       "  <thead>\n",
       "    <tr style=\"text-align: right;\">\n",
       "      <th></th>\n",
       "      <th>accuracy_test_score</th>\n",
       "      <th>accuracy_train_score</th>\n",
       "      <th>f1_test_score</th>\n",
       "      <th>f1_train_score</th>\n",
       "      <th>fit_time</th>\n",
       "      <th>model</th>\n",
       "      <th>model_name</th>\n",
       "      <th>test_pred_time</th>\n",
       "      <th>train_pred_time</th>\n",
       "      <th>max_depth</th>\n",
       "      <th>max_features</th>\n",
       "    </tr>\n",
       "  </thead>\n",
       "  <tbody>\n",
       "    <tr>\n",
       "      <th>0</th>\n",
       "      <td>0.811902</td>\n",
       "      <td>0.826889</td>\n",
       "      <td>0.563495</td>\n",
       "      <td>0.588027</td>\n",
       "      <td>0.017621</td>\n",
       "      <td>DecisionTreeClassifier(class_weight=None, crit...</td>\n",
       "      <td>dt</td>\n",
       "      <td>0.002407</td>\n",
       "      <td>0.006549</td>\n",
       "      <td>10</td>\n",
       "      <td>10</td>\n",
       "    </tr>\n",
       "    <tr>\n",
       "      <th>1</th>\n",
       "      <td>0.826101</td>\n",
       "      <td>0.846833</td>\n",
       "      <td>0.554739</td>\n",
       "      <td>0.617123</td>\n",
       "      <td>0.024798</td>\n",
       "      <td>DecisionTreeClassifier(class_weight=None, crit...</td>\n",
       "      <td>dt</td>\n",
       "      <td>0.002330</td>\n",
       "      <td>0.006582</td>\n",
       "      <td>10</td>\n",
       "      <td>20</td>\n",
       "    </tr>\n",
       "    <tr>\n",
       "      <th>2</th>\n",
       "      <td>0.828015</td>\n",
       "      <td>0.907993</td>\n",
       "      <td>0.634328</td>\n",
       "      <td>0.802241</td>\n",
       "      <td>0.038525</td>\n",
       "      <td>DecisionTreeClassifier(class_weight=None, crit...</td>\n",
       "      <td>dt</td>\n",
       "      <td>0.002725</td>\n",
       "      <td>0.007985</td>\n",
       "      <td>20</td>\n",
       "      <td>20</td>\n",
       "    </tr>\n",
       "    <tr>\n",
       "      <th>3</th>\n",
       "      <td>0.847958</td>\n",
       "      <td>0.867468</td>\n",
       "      <td>0.648987</td>\n",
       "      <td>0.698451</td>\n",
       "      <td>0.031216</td>\n",
       "      <td>DecisionTreeClassifier(class_weight=None, crit...</td>\n",
       "      <td>dt</td>\n",
       "      <td>0.002528</td>\n",
       "      <td>0.006592</td>\n",
       "      <td>10</td>\n",
       "      <td>30</td>\n",
       "    </tr>\n",
       "    <tr>\n",
       "      <th>4</th>\n",
       "      <td>0.832802</td>\n",
       "      <td>0.922034</td>\n",
       "      <td>0.637370</td>\n",
       "      <td>0.827367</td>\n",
       "      <td>0.049539</td>\n",
       "      <td>DecisionTreeClassifier(class_weight=None, crit...</td>\n",
       "      <td>dt</td>\n",
       "      <td>0.002824</td>\n",
       "      <td>0.007877</td>\n",
       "      <td>20</td>\n",
       "      <td>30</td>\n",
       "    </tr>\n",
       "  </tbody>\n",
       "</table>\n",
       "</div>"
      ],
      "text/plain": [
       "   accuracy_test_score  accuracy_train_score  f1_test_score  f1_train_score  \\\n",
       "0             0.811902              0.826889       0.563495        0.588027   \n",
       "1             0.826101              0.846833       0.554739        0.617123   \n",
       "2             0.828015              0.907993       0.634328        0.802241   \n",
       "3             0.847958              0.867468       0.648987        0.698451   \n",
       "4             0.832802              0.922034       0.637370        0.827367   \n",
       "\n",
       "   fit_time                                              model model_name  \\\n",
       "0  0.017621  DecisionTreeClassifier(class_weight=None, crit...         dt   \n",
       "1  0.024798  DecisionTreeClassifier(class_weight=None, crit...         dt   \n",
       "2  0.038525  DecisionTreeClassifier(class_weight=None, crit...         dt   \n",
       "3  0.031216  DecisionTreeClassifier(class_weight=None, crit...         dt   \n",
       "4  0.049539  DecisionTreeClassifier(class_weight=None, crit...         dt   \n",
       "\n",
       "   test_pred_time  train_pred_time  max_depth  max_features  \n",
       "0        0.002407         0.006549         10            10  \n",
       "1        0.002330         0.006582         10            20  \n",
       "2        0.002725         0.007985         20            20  \n",
       "3        0.002528         0.006592         10            30  \n",
       "4        0.002824         0.007877         20            30  "
      ]
     },
     "execution_count": 32,
     "metadata": {},
     "output_type": "execute_result"
    }
   ],
   "source": [
    "test_results_df.head()"
   ]
  },
  {
   "cell_type": "code",
   "execution_count": 34,
   "metadata": {},
   "outputs": [
    {
     "data": {
      "text/plain": [
       "[<matplotlib.lines.Line2D at 0x7fee53c19a58>]"
      ]
     },
     "execution_count": 34,
     "metadata": {},
     "output_type": "execute_result"
    },
    {
     "data": {
      "image/png": "[encoded data removed]",
      "text/plain": [
       "<matplotlib.figure.Figure at 0x7fee53c2d748>"
      ]
     },
     "metadata": {},
     "output_type": "display_data"
    }
   ],
   "source": [
    "l1_test_results = test_results_df[test_results_df.model_name == 'dt']\n",
    "#l2_test_results = test_results_df[test_results_df.model_name == 'l2']\n",
    "plt.plot(l1_test_results.max_depth, l1_test_results.f1_test_score, label='l1 penalty')\n",
    "#plt.plot(l2_test_results.C, l2_test_results.f1_test_score, label='l2 penalty')\n",
    "#plt.legend()"
   ]
  },
  {
   "cell_type": "code",
   "execution_count": 52,
   "metadata": {
    "scrolled": true
   },
   "outputs": [
    {
     "name": "stderr",
     "output_type": "stream",
     "text": [
      "100%|██████████| 25/25 [00:00<00:00, 392.52it/s]\n",
      "100%|██████████| 25/25 [00:00<00:00, 197.57it/s]\n",
      "100%|██████████| 25/25 [00:00<00:00, 126.17it/s]\n",
      "100%|██████████| 25/25 [00:00<00:00, 93.80it/s]\n",
      "100%|██████████| 25/25 [00:00<00:00, 74.07it/s]\n",
      "100%|██████████| 25/25 [00:00<00:00, 60.59it/s]\n",
      "100%|██████████| 25/25 [00:00<00:00, 50.69it/s]\n",
      "100%|██████████| 25/25 [00:00<00:00, 43.71it/s]\n",
      "100%|██████████| 25/25 [00:00<00:00, 37.90it/s]\n",
      "100%|██████████| 25/25 [00:00<00:00, 33.98it/s]\n",
      "100%|██████████| 25/25 [00:00<00:00, 30.47it/s]\n",
      "100%|██████████| 25/25 [00:00<00:00, 27.36it/s]\n",
      "100%|██████████| 25/25 [00:01<00:00, 24.84it/s]\n",
      "100%|██████████| 25/25 [00:01<00:00, 22.48it/s]\n",
      "100%|██████████| 25/25 [00:01<00:00, 20.27it/s]\n",
      "100%|██████████| 25/25 [00:01<00:00, 18.60it/s]\n",
      "100%|██████████| 25/25 [00:01<00:00, 17.29it/s]\n",
      "100%|██████████| 25/25 [00:01<00:00, 15.11it/s]\n",
      "100%|██████████| 25/25 [00:01<00:00, 14.02it/s]\n",
      "100%|██████████| 25/25 [00:01<00:00, 13.65it/s]\n",
      "100%|██████████| 25/25 [00:01<00:00, 12.76it/s]\n",
      "100%|██████████| 25/25 [00:02<00:00, 11.99it/s]\n",
      "100%|██████████| 25/25 [00:02<00:00, 10.85it/s]\n",
      "100%|██████████| 25/25 [00:02<00:00, 10.11it/s]\n",
      "100%|██████████| 25/25 [00:02<00:00,  9.55it/s]\n"
     ]
    }
   ],
   "source": [
    "test_results = []\n",
    "depths = range(5,30,1)\n",
    "for features in range(5,30,1):\n",
    "    for depth in tqdm(depths):\n",
    "        if features < depth:\n",
    "            next\n",
    "        else:\n",
    "            model = DecisionTreeClassifier(max_features=features, max_depth=depth)\n",
    "            test_result = run_model(model, \n",
    "                                        features, \n",
    "                                        adult_train_df, \n",
    "                                        adult_train_target)\n",
    "            test_results.append(test_result)"
   ]
  },
  {
   "cell_type": "code",
   "execution_count": 39,
   "metadata": {},
   "outputs": [
    {
     "data": {
      "text/html": [
       "<div>\n",
       "<table border=\"1\" class=\"dataframe\">\n",
       "  <thead>\n",
       "    <tr style=\"text-align: right;\">\n",
       "      <th></th>\n",
       "      <th>accuracy_test_score</th>\n",
       "      <th>accuracy_train_score</th>\n",
       "      <th>f1_test_score</th>\n",
       "      <th>f1_train_score</th>\n",
       "      <th>fit_time</th>\n",
       "      <th>model</th>\n",
       "      <th>model_name</th>\n",
       "      <th>test_pred_time</th>\n",
       "      <th>train_pred_time</th>\n",
       "      <th>depth</th>\n",
       "    </tr>\n",
       "  </thead>\n",
       "  <tbody>\n",
       "    <tr>\n",
       "      <th>0</th>\n",
       "      <td>0.825144</td>\n",
       "      <td>0.841515</td>\n",
       "      <td>0.551922</td>\n",
       "      <td>0.598491</td>\n",
       "      <td>0.016006</td>\n",
       "      <td>DecisionTreeClassifier(class_weight=None, crit...</td>\n",
       "      <td>10</td>\n",
       "      <td>0.002154</td>\n",
       "      <td>0.006608</td>\n",
       "      <td>10</td>\n",
       "    </tr>\n",
       "    <tr>\n",
       "      <th>1</th>\n",
       "      <td>0.855935</td>\n",
       "      <td>0.857150</td>\n",
       "      <td>0.660143</td>\n",
       "      <td>0.664753</td>\n",
       "      <td>0.023421</td>\n",
       "      <td>DecisionTreeClassifier(class_weight=None, crit...</td>\n",
       "      <td>20</td>\n",
       "      <td>0.002024</td>\n",
       "      <td>0.006083</td>\n",
       "      <td>10</td>\n",
       "    </tr>\n",
       "    <tr>\n",
       "      <th>2</th>\n",
       "      <td>0.837269</td>\n",
       "      <td>0.918896</td>\n",
       "      <td>0.631503</td>\n",
       "      <td>0.817562</td>\n",
       "      <td>0.036265</td>\n",
       "      <td>DecisionTreeClassifier(class_weight=None, crit...</td>\n",
       "      <td>20</td>\n",
       "      <td>0.002362</td>\n",
       "      <td>0.007250</td>\n",
       "      <td>20</td>\n",
       "    </tr>\n",
       "    <tr>\n",
       "      <th>3</th>\n",
       "      <td>0.847798</td>\n",
       "      <td>0.865181</td>\n",
       "      <td>0.622328</td>\n",
       "      <td>0.663481</td>\n",
       "      <td>0.032013</td>\n",
       "      <td>DecisionTreeClassifier(class_weight=None, crit...</td>\n",
       "      <td>30</td>\n",
       "      <td>0.002136</td>\n",
       "      <td>0.006651</td>\n",
       "      <td>10</td>\n",
       "    </tr>\n",
       "    <tr>\n",
       "      <th>4</th>\n",
       "      <td>0.845246</td>\n",
       "      <td>0.916715</td>\n",
       "      <td>0.658691</td>\n",
       "      <td>0.814675</td>\n",
       "      <td>0.052824</td>\n",
       "      <td>DecisionTreeClassifier(class_weight=None, crit...</td>\n",
       "      <td>30</td>\n",
       "      <td>0.002784</td>\n",
       "      <td>0.008529</td>\n",
       "      <td>20</td>\n",
       "    </tr>\n",
       "  </tbody>\n",
       "</table>\n",
       "</div>"
      ],
      "text/plain": [
       "   accuracy_test_score  accuracy_train_score  f1_test_score  f1_train_score  \\\n",
       "0             0.825144              0.841515       0.551922        0.598491   \n",
       "1             0.855935              0.857150       0.660143        0.664753   \n",
       "2             0.837269              0.918896       0.631503        0.817562   \n",
       "3             0.847798              0.865181       0.622328        0.663481   \n",
       "4             0.845246              0.916715       0.658691        0.814675   \n",
       "\n",
       "   fit_time                                              model  model_name  \\\n",
       "0  0.016006  DecisionTreeClassifier(class_weight=None, crit...          10   \n",
       "1  0.023421  DecisionTreeClassifier(class_weight=None, crit...          20   \n",
       "2  0.036265  DecisionTreeClassifier(class_weight=None, crit...          20   \n",
       "3  0.032013  DecisionTreeClassifier(class_weight=None, crit...          30   \n",
       "4  0.052824  DecisionTreeClassifier(class_weight=None, crit...          30   \n",
       "\n",
       "   test_pred_time  train_pred_time  depth  \n",
       "0        0.002154         0.006608     10  \n",
       "1        0.002024         0.006083     10  \n",
       "2        0.002362         0.007250     20  \n",
       "3        0.002136         0.006651     10  \n",
       "4        0.002784         0.008529     20  "
      ]
     },
     "execution_count": 39,
     "metadata": {},
     "output_type": "execute_result"
    }
   ],
   "source": [
    "test_results_df.head()"
   ]
  },
  {
   "cell_type": "code",
   "execution_count": 63,
   "metadata": {},
   "outputs": [
    {
     "data": {
      "text/plain": [
       "<matplotlib.legend.Legend at 0x7fee513a0d30>"
      ]
     },
     "execution_count": 63,
     "metadata": {},
     "output_type": "execute_result"
    },
    {
     "data": {
      "image/png": "[encoded data removed]",
      "text/plain": [
       "<matplotlib.figure.Figure at 0x7fee513b4390>"
      ]
     },
     "metadata": {},
     "output_type": "display_data"
    }
   ],
   "source": [
    "test_results_df = pd.DataFrame(test_results)\n",
    "\n",
    "test_results_df['depth'] = test_results_df.model.apply(lambda model: model.max_depth)\n",
    "\n",
    "f25_feat_test_results = test_results_df[test_results_df.model_name == 25]\n",
    "f20_feat_test_results = test_results_df[test_results_df.model_name == 20]\n",
    "plt.plot(f25_feat_test_results.depth, f25_feat_test_results.f1_test_score, label='f25')\n",
    "plt.plot(f20_feat_test_results.depth, f20_feat_test_results.f1_test_score, label='f20')\n",
    "#plt.xscale('log')\n",
    "plt.legend()"
   ]
  },
  {
   "cell_type": "code",
   "execution_count": null,
   "metadata": {},
   "outputs": [],
   "source": [
    "test_results = []\n",
    "c_values = np.logspace(-1,5,12)\n",
    "for regularization_type in ['l1', 'l2']:\n",
    "    for c in tqdm(c_values):\n",
    "        model = LogisticRegression(penalty=regularization_type, C=c)\n",
    "        test_result = run_model(model, \n",
    "                                regularization_type, \n",
    "                                adult_train_df, \n",
    "                                adult_train_target)\n",
    "        test_results.append(test_result)"
   ]
  },
  {
   "cell_type": "code",
   "execution_count": null,
   "metadata": {},
   "outputs": [],
   "source": [
    "test_results_df = pd.DataFrame(test_results)\n",
    "\n",
    "test_results_df['C'] = test_results_df.model.apply(lambda model: model.C)\n",
    "\n",
    "l1_test_results = test_results_df[test_results_df.model_name == 'l1']\n",
    "l2_test_results = test_results_df[test_results_df.model_name == 'l2']\n",
    "plt.plot(l1_test_results.C, l1_test_results.f1_test_score, label='l1 penalty')\n",
    "plt.plot(l2_test_results.C, l2_test_results.f1_test_score, label='l2 penalty')\n",
    "plt.xscale('log')\n",
    "plt.legend()"
   ]
  },
  {
   "cell_type": "code",
   "execution_count": null,
   "metadata": {},
   "outputs": [],
   "source": [
    "test_results = []\n",
    "c_values = np.logspace(-1,5,12)\n",
    "\n",
    "for _ in range(10):\n",
    "    for regularization_type in ['l1', 'l2']:\n",
    "        for c in tqdm(c_values):\n",
    "            model = LogisticRegression(penalty=regularization_type, C=c)\n",
    "            test_result = run_model(model, \n",
    "                                    regularization_type, \n",
    "                                    adult_train_df, \n",
    "                                    adult_train_target)\n",
    "            test_results.append(test_result)"
   ]
  },
  {
   "cell_type": "code",
   "execution_count": null,
   "metadata": {},
   "outputs": [],
   "source": [
    "test_results_df = pd.DataFrame(test_results)\n",
    "test_results_df['C'] = test_results_df.model.apply(lambda model: model.C)\n",
    "l1_test_results = test_results_df[test_results_df.model_name == 'l1']\n",
    "l2_test_results = test_results_df[test_results_df.model_name == 'l2']"
   ]
  },
  {
   "cell_type": "code",
   "execution_count": 61,
   "metadata": {},
   "outputs": [],
   "source": [
    "from matplotlib.cm import viridis_r"
   ]
  },
  {
   "cell_type": "code",
   "execution_count": 62,
   "metadata": {},
   "outputs": [],
   "source": [
    "k = int(len(viridis_r.colors)/12)\n",
    "colors = [col for i, col in enumerate(viridis_r.colors) if i % 21 == 0]"
   ]
  },
  {
   "cell_type": "code",
   "execution_count": 72,
   "metadata": {},
   "outputs": [
    {
     "ename": "TypeError",
     "evalue": "len() of unsized object",
     "output_type": "error",
     "traceback": [
      "\u001b[0;31m---------------------------------------------------------------------------\u001b[0m",
      "\u001b[0;31mTypeError\u001b[0m                                 Traceback (most recent call last)",
      "\u001b[0;32m<ipython-input-72-90c69a2dd293>\u001b[0m in \u001b[0;36m<module>\u001b[0;34m()\u001b[0m\n\u001b[1;32m      2\u001b[0m \u001b[0;32mfor\u001b[0m \u001b[0mi\u001b[0m\u001b[0;34m,\u001b[0m \u001b[0mdepth\u001b[0m \u001b[0;32min\u001b[0m \u001b[0menumerate\u001b[0m\u001b[0;34m(\u001b[0m\u001b[0mf25_feat_test_results\u001b[0m\u001b[0;34m.\u001b[0m\u001b[0mdepth\u001b[0m\u001b[0;34m.\u001b[0m\u001b[0munique\u001b[0m\u001b[0;34m(\u001b[0m\u001b[0;34m)\u001b[0m\u001b[0;34m)\u001b[0m\u001b[0;34m:\u001b[0m\u001b[0;34m\u001b[0m\u001b[0m\n\u001b[1;32m      3\u001b[0m     \u001b[0mf25_feat_test_results_for_d\u001b[0m \u001b[0;34m=\u001b[0m \u001b[0mf25_feat_test_results\u001b[0m\u001b[0;34m[\u001b[0m\u001b[0mf25_feat_test_results\u001b[0m\u001b[0;34m.\u001b[0m\u001b[0mdepth\u001b[0m \u001b[0;34m==\u001b[0m \u001b[0mdepth\u001b[0m\u001b[0;34m]\u001b[0m\u001b[0;34m\u001b[0m\u001b[0m\n\u001b[0;32m----> 4\u001b[0;31m     \u001b[0msns\u001b[0m\u001b[0;34m.\u001b[0m\u001b[0mdistplot\u001b[0m\u001b[0;34m(\u001b[0m\u001b[0mf25_feat_test_results_for_d\u001b[0m\u001b[0;34m.\u001b[0m\u001b[0mf1_test_score\u001b[0m\u001b[0;34m,\u001b[0m \u001b[0mlabel\u001b[0m\u001b[0;34m=\u001b[0m\u001b[0mstr\u001b[0m\u001b[0;34m(\u001b[0m\u001b[0mdepth\u001b[0m\u001b[0;34m)\u001b[0m\u001b[0;34m,\u001b[0m \u001b[0max\u001b[0m\u001b[0;34m=\u001b[0m\u001b[0max1\u001b[0m\u001b[0;34m,\u001b[0m \u001b[0mcolor\u001b[0m\u001b[0;34m=\u001b[0m\u001b[0mcolors\u001b[0m\u001b[0;34m[\u001b[0m\u001b[0mi\u001b[0m\u001b[0;34m]\u001b[0m\u001b[0;34m)\u001b[0m\u001b[0;34m\u001b[0m\u001b[0m\n\u001b[0m\u001b[1;32m      5\u001b[0m    \u001b[0;31m# l2_test_results_for_C = l2_test_results[l2_test_results.C == C]\u001b[0m\u001b[0;34m\u001b[0m\u001b[0;34m\u001b[0m\u001b[0m\n\u001b[1;32m      6\u001b[0m    \u001b[0;31m# sns.distplot(l2_test_results_for_C.f1_test_score, label=str(C), ax=ax2, color=colors[i])\u001b[0m\u001b[0;34m\u001b[0m\u001b[0;34m\u001b[0m\u001b[0m\n",
      "\u001b[0;32m/opt/conda/lib/python3.6/site-packages/seaborn/distributions.py\u001b[0m in \u001b[0;36mdistplot\u001b[0;34m(a, bins, hist, kde, rug, fit, hist_kws, kde_kws, rug_kws, fit_kws, color, vertical, norm_hist, axlabel, label, ax)\u001b[0m\n\u001b[1;32m    207\u001b[0m     \u001b[0;32mif\u001b[0m \u001b[0mhist\u001b[0m\u001b[0;34m:\u001b[0m\u001b[0;34m\u001b[0m\u001b[0m\n\u001b[1;32m    208\u001b[0m         \u001b[0;32mif\u001b[0m \u001b[0mbins\u001b[0m \u001b[0;32mis\u001b[0m \u001b[0;32mNone\u001b[0m\u001b[0;34m:\u001b[0m\u001b[0;34m\u001b[0m\u001b[0m\n\u001b[0;32m--> 209\u001b[0;31m             \u001b[0mbins\u001b[0m \u001b[0;34m=\u001b[0m \u001b[0mmin\u001b[0m\u001b[0;34m(\u001b[0m\u001b[0m_freedman_diaconis_bins\u001b[0m\u001b[0;34m(\u001b[0m\u001b[0ma\u001b[0m\u001b[0;34m)\u001b[0m\u001b[0;34m,\u001b[0m \u001b[0;36m50\u001b[0m\u001b[0;34m)\u001b[0m\u001b[0;34m\u001b[0m\u001b[0m\n\u001b[0m\u001b[1;32m    210\u001b[0m         \u001b[0mhist_kws\u001b[0m\u001b[0;34m.\u001b[0m\u001b[0msetdefault\u001b[0m\u001b[0;34m(\u001b[0m\u001b[0;34m\"alpha\"\u001b[0m\u001b[0;34m,\u001b[0m \u001b[0;36m0.4\u001b[0m\u001b[0;34m)\u001b[0m\u001b[0;34m\u001b[0m\u001b[0m\n\u001b[1;32m    211\u001b[0m         \u001b[0mhist_kws\u001b[0m\u001b[0;34m.\u001b[0m\u001b[0msetdefault\u001b[0m\u001b[0;34m(\u001b[0m\u001b[0;34m\"normed\"\u001b[0m\u001b[0;34m,\u001b[0m \u001b[0mnorm_hist\u001b[0m\u001b[0;34m)\u001b[0m\u001b[0;34m\u001b[0m\u001b[0m\n",
      "\u001b[0;32m/opt/conda/lib/python3.6/site-packages/seaborn/distributions.py\u001b[0m in \u001b[0;36m_freedman_diaconis_bins\u001b[0;34m(a)\u001b[0m\n\u001b[1;32m     28\u001b[0m     \u001b[0;31m# From http://stats.stackexchange.com/questions/798/\u001b[0m\u001b[0;34m\u001b[0m\u001b[0;34m\u001b[0m\u001b[0m\n\u001b[1;32m     29\u001b[0m     \u001b[0ma\u001b[0m \u001b[0;34m=\u001b[0m \u001b[0mnp\u001b[0m\u001b[0;34m.\u001b[0m\u001b[0masarray\u001b[0m\u001b[0;34m(\u001b[0m\u001b[0ma\u001b[0m\u001b[0;34m)\u001b[0m\u001b[0;34m\u001b[0m\u001b[0m\n\u001b[0;32m---> 30\u001b[0;31m     \u001b[0mh\u001b[0m \u001b[0;34m=\u001b[0m \u001b[0;36m2\u001b[0m \u001b[0;34m*\u001b[0m \u001b[0miqr\u001b[0m\u001b[0;34m(\u001b[0m\u001b[0ma\u001b[0m\u001b[0;34m)\u001b[0m \u001b[0;34m/\u001b[0m \u001b[0;34m(\u001b[0m\u001b[0mlen\u001b[0m\u001b[0;34m(\u001b[0m\u001b[0ma\u001b[0m\u001b[0;34m)\u001b[0m \u001b[0;34m**\u001b[0m \u001b[0;34m(\u001b[0m\u001b[0;36m1\u001b[0m \u001b[0;34m/\u001b[0m \u001b[0;36m3\u001b[0m\u001b[0;34m)\u001b[0m\u001b[0;34m)\u001b[0m\u001b[0;34m\u001b[0m\u001b[0m\n\u001b[0m\u001b[1;32m     31\u001b[0m     \u001b[0;31m# fall back to sqrt(a) bins if iqr is 0\u001b[0m\u001b[0;34m\u001b[0m\u001b[0;34m\u001b[0m\u001b[0m\n\u001b[1;32m     32\u001b[0m     \u001b[0;32mif\u001b[0m \u001b[0mh\u001b[0m \u001b[0;34m==\u001b[0m \u001b[0;36m0\u001b[0m\u001b[0;34m:\u001b[0m\u001b[0;34m\u001b[0m\u001b[0m\n",
      "\u001b[0;31mTypeError\u001b[0m: len() of unsized object"
     ]
    },
    {
     "data": {
      "image/png": "[encoded data removed]",
      "text/plain": [
       "<matplotlib.figure.Figure at 0x7fee50dc3da0>"
      ]
     },
     "metadata": {},
     "output_type": "display_data"
    }
   ],
   "source": [
    "fig, (ax1, ax2) = plt.subplots(2,1,figsize=(20,12))\n",
    "for i, depth in enumerate(f25_feat_test_results.depth.unique()): \n",
    "    f25_feat_test_results_for_d = f25_feat_test_results[f25_feat_test_results.depth == depth]\n",
    "    sns.distplot(f25_feat_test_results_for_d.f1_test_score, label=str(depth), ax=ax1, color=colors[i])\n",
    "   # l2_test_results_for_C = l2_test_results[l2_test_results.C == C]\n",
    "   # sns.distplot(l2_test_results_for_C.f1_test_score, label=str(C), ax=ax2, color=colors[i])\n",
    "ax1.set_xlim(0.6,0.7)\n",
    "ax1.set_title('Distribution of L1 penalty performance')\n",
    "ax1.legend()\n",
    "ax2.set_xlim(0.6,0.7)\n",
    "ax2.set_title('Distribution of L2 penalty performance')\n",
    "ax2.legend()\n"
   ]
  },
  {
   "cell_type": "code",
   "execution_count": 71,
   "metadata": {},
   "outputs": [
    {
     "data": {
      "text/plain": [
       "array([ 5,  6,  7,  8,  9, 10, 11, 12, 13, 14, 15, 16, 17, 18, 19, 20, 21,\n",
       "       22, 23, 24, 25])"
      ]
     },
     "execution_count": 71,
     "metadata": {},
     "output_type": "execute_result"
    }
   ],
   "source": [
    "f25_feat_test_results.depth.unique()"
   ]
  },
  {
   "cell_type": "code",
   "execution_count": null,
   "metadata": {},
   "outputs": [],
   "source": []
  }
 ],
 "metadata": {
  "kernelspec": {
   "display_name": "Python 3",
   "language": "python",
   "name": "python3"
  },
  "language_info": {
   "codemirror_mode": {
    "name": "ipython",
    "version": 3
   },
   "file_extension": ".py",
   "mimetype": "text/x-python",
   "name": "python",
   "nbconvert_exporter": "python",
   "pygments_lexer": "ipython3",
   "version": "3.6.4"
  }
 },
 "nbformat": 4,
 "nbformat_minor": 2
}
